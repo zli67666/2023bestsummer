{
  "nbformat": 4,
  "nbformat_minor": 0,
  "metadata": {
    "colab": {
      "provenance": []
    },
    "kernelspec": {
      "name": "python3",
      "display_name": "Python 3"
    },
    "language_info": {
      "name": "python"
    }
  },
  "cells": [
    {
      "cell_type": "markdown",
      "source": [
        "# 掛載"
      ],
      "metadata": {
        "id": "f8eurnxZTgS7"
      }
    },
    {
      "cell_type": "code",
      "source": [
        "from google.colab import drive\n",
        "drive.mount('/content/drive')"
      ],
      "metadata": {
        "colab": {
          "base_uri": "https://localhost:8080/"
        },
        "id": "jQxrurNicUJO",
        "outputId": "7e81df8e-edf2-41e6-9db8-d5a398f56d87"
      },
      "execution_count": null,
      "outputs": [
        {
          "output_type": "stream",
          "name": "stdout",
          "text": [
            "Mounted at /content/drive\n"
          ]
        }
      ]
    },
    {
      "cell_type": "markdown",
      "source": [
        "read"
      ],
      "metadata": {
        "id": "3ahiCqUdn5zA"
      }
    },
    {
      "cell_type": "code",
      "source": [
        "pip install pydicom"
      ],
      "metadata": {
        "colab": {
          "base_uri": "https://localhost:8080/"
        },
        "id": "STSP2KzHTgs3",
        "outputId": "db7cd09e-e3b0-4acf-fce1-aee6072b5af6"
      },
      "execution_count": null,
      "outputs": [
        {
          "output_type": "stream",
          "name": "stdout",
          "text": [
            "Collecting pydicom\n",
            "  Downloading pydicom-2.4.3-py3-none-any.whl (1.8 MB)\n",
            "\u001b[2K     \u001b[90m━━━━━━━━━━━━━━━━━━━━━━━━━━━━━━━━━━━━━━━━\u001b[0m \u001b[32m1.8/1.8 MB\u001b[0m \u001b[31m9.0 MB/s\u001b[0m eta \u001b[36m0:00:00\u001b[0m\n",
            "\u001b[?25hInstalling collected packages: pydicom\n",
            "Successfully installed pydicom-2.4.3\n"
          ]
        }
      ]
    },
    {
      "cell_type": "code",
      "source": [
        "import os\n",
        "import cv2\n",
        "import numpy as np\n",
        "\n",
        "# 图像文件夹路径\n",
        "folder_0 = '/content/drive/MyDrive/Colab_Notebooks/data_1/0/'\n",
        "folder_1 = '/content/drive/MyDrive/Colab_Notebooks/data_1/1/'\n",
        "\n",
        "# 读取并处理图像\n",
        "x_data = []\n",
        "\n",
        "# 处理文件夹0中的图像\n",
        "for filename in os.listdir(folder_0):\n",
        "    img = cv2.imread(os.path.join(folder_0, filename))\n",
        "    img = cv2.resize(img, (64, 64))  # 调整图像大小为模型输入大小\n",
        "    img = cv2.cvtColor(img, cv2.COLOR_BGR2GRAY)  # 转换为灰度图像\n",
        "    img = img / 255.0  # 归一化像素值\n",
        "    x_data.append(img)\n",
        "\n",
        "# 处理文件夹1中的图像\n",
        "for filename in os.listdir(folder_1):\n",
        "    img = cv2.imread(os.path.join(folder_1, filename))\n",
        "    img = cv2.resize(img, (64, 64))  # 调整图像大小为模型输入大小\n",
        "    img = cv2.cvtColor(img, cv2.COLOR_BGR2GRAY)  # 转换为灰度图像\n",
        "    img = img / 255.0  # 归一化像素值\n",
        "    x_data.append(img)\n",
        "\n",
        "# 将图像数据转换为NumPy数组\n",
        "x_data = np.array(x_data)\n",
        "\n",
        "# 输出 x_data 的形状\n",
        "print(\"x_data shape:\", x_data.shape)\n"
      ],
      "metadata": {
        "id": "OMvXY_yhgEWJ",
        "colab": {
          "base_uri": "https://localhost:8080/"
        },
        "outputId": "5c664d85-2f7f-49e2-c888-a29bee6535b5"
      },
      "execution_count": null,
      "outputs": [
        {
          "output_type": "stream",
          "name": "stdout",
          "text": [
            "x_data shape: (150, 64, 64)\n"
          ]
        }
      ]
    },
    {
      "cell_type": "markdown",
      "source": [
        "CNN"
      ],
      "metadata": {
        "id": "luIj23GxtaNj"
      }
    },
    {
      "cell_type": "code",
      "source": [
        "import torch.nn as nn\n",
        "import torch.nn.functional as F\n",
        "\n",
        "class Class2(nn.Module):\n",
        "    def __init__(self):\n",
        "        super(Class2, self).__init__()\n",
        "\n",
        "        # 卷積層\n",
        "        self.conv1 = nn.Conv2d(in_channels=1, out_channels=8, kernel_size=3, \\\n",
        "                               stride=1, padding=1)\n",
        "        self.conv2 = nn.Conv2d(in_channels=8, out_channels=16, kernel_size=3, \\\n",
        "                               stride=1, padding=1)\n",
        "\n",
        "        # 線性層\n",
        "        self.linear1 = nn.Linear(in_features=65536, out_features=256)\n",
        "        self.linear2 = nn.Linear(in_features=256, out_features=64)\n",
        "\n",
        "        # 隨機失活(Dropout)\n",
        "        self.dropout = nn.Dropout(p=0.25)\n",
        "\n",
        "        # 最後一個線性層輸出2個值，代表2個類別的機率\n",
        "        self.linear3 = nn.Linear(in_features=64, out_features=2)\n",
        "\n",
        "    def forward(self, image_batch):\n",
        "        image_batch = F.relu(input=self.conv1(image_batch))\n",
        "        image_batch = F.relu(input=self.conv2(image_batch))\n",
        "\n",
        "        flat_image_batch = image_batch.view(image_batch.shape[0], -1)\n",
        "\n",
        "        flat_image_batch = F.relu(input=self.linear1(flat_image_batch))\n",
        "        flat_image_batch = self.dropout(F.relu(input=self.linear2(flat_image_batch)))\n",
        "        probabilities = F.softmax(self.linear3(flat_image_batch), dim=1)  # 使用softmax轉換成機率\n",
        "\n",
        "        return probabilities\n"
      ],
      "metadata": {
        "id": "diQvmnT_snJk"
      },
      "execution_count": null,
      "outputs": []
    },
    {
      "cell_type": "code",
      "source": [
        "!pip install torchsummary"
      ],
      "metadata": {
        "colab": {
          "base_uri": "https://localhost:8080/"
        },
        "id": "QCNZnAafu3Vp",
        "outputId": "df861127-ce18-4da0-c538-cb304da0afa5"
      },
      "execution_count": null,
      "outputs": [
        {
          "output_type": "stream",
          "name": "stdout",
          "text": [
            "Requirement already satisfied: torchsummary in /usr/local/lib/python3.10/dist-packages (1.5.1)\n"
          ]
        }
      ]
    },
    {
      "cell_type": "code",
      "source": [
        "np.dtype(np.int32)"
      ],
      "metadata": {
        "id": "YFJP5bp4_MeI",
        "colab": {
          "base_uri": "https://localhost:8080/"
        },
        "outputId": "06fd0e38-c1cd-4cbb-a4db-7bab43b07e00"
      },
      "execution_count": null,
      "outputs": [
        {
          "output_type": "execute_result",
          "data": {
            "text/plain": [
              "dtype('int32')"
            ]
          },
          "metadata": {},
          "execution_count": 6
        }
      ]
    },
    {
      "cell_type": "code",
      "source": [
        "import torch.optim as optim\n",
        "import torch\n",
        "import torch.nn as nn\n",
        "criterion = nn.CrossEntropyLoss()  # 定義損失函數\n",
        "# 使用 torch.optim 設置優化器函數作為優化庫\n",
        "learning_rate = 0.1\n",
        "\n",
        "data= torch.from_numpy(x_data)\n",
        "model = Class2()\n",
        "optimizer = optim.SGD(model.parameters(), lr=learning_rate)"
      ],
      "metadata": {
        "id": "RczJWp10u-VW"
      },
      "execution_count": null,
      "outputs": []
    },
    {
      "cell_type": "code",
      "source": [
        "model"
      ],
      "metadata": {
        "colab": {
          "base_uri": "https://localhost:8080/"
        },
        "id": "7ogTeXTSRie6",
        "outputId": "e3078126-9106-4a27-856f-7aa193c00a15"
      },
      "execution_count": null,
      "outputs": [
        {
          "output_type": "execute_result",
          "data": {
            "text/plain": [
              "Class2(\n",
              "  (conv1): Conv2d(1, 8, kernel_size=(3, 3), stride=(1, 1), padding=(1, 1))\n",
              "  (conv2): Conv2d(8, 16, kernel_size=(3, 3), stride=(1, 1), padding=(1, 1))\n",
              "  (linear1): Linear(in_features=65536, out_features=256, bias=True)\n",
              "  (linear2): Linear(in_features=256, out_features=64, bias=True)\n",
              "  (dropout): Dropout(p=0.25, inplace=False)\n",
              "  (linear3): Linear(in_features=64, out_features=2, bias=True)\n",
              ")"
            ]
          },
          "metadata": {},
          "execution_count": 8
        }
      ]
    },
    {
      "cell_type": "code",
      "source": [
        "data=data.to(torch.float)"
      ],
      "metadata": {
        "id": "tmEdsVvjoYch"
      },
      "execution_count": null,
      "outputs": []
    },
    {
      "cell_type": "code",
      "source": [
        "data = data.unsqueeze(1)  # 在第二个维度上添加通道维度"
      ],
      "metadata": {
        "id": "yLmqN02GKKFh"
      },
      "execution_count": null,
      "outputs": []
    },
    {
      "cell_type": "code",
      "source": [
        "data.shape"
      ],
      "metadata": {
        "colab": {
          "base_uri": "https://localhost:8080/"
        },
        "id": "SlQxy8baWQbj",
        "outputId": "593a67aa-9b7b-46f9-d835-d800e3de0642"
      },
      "execution_count": null,
      "outputs": [
        {
          "output_type": "execute_result",
          "data": {
            "text/plain": [
              "torch.Size([150, 1, 64, 64])"
            ]
          },
          "metadata": {},
          "execution_count": 11
        }
      ]
    },
    {
      "cell_type": "code",
      "source": [
        "model(data)"
      ],
      "metadata": {
        "id": "tkzlMHDMRvia",
        "outputId": "73f97107-1910-4985-aeae-ded666a9ec4f",
        "colab": {
          "base_uri": "https://localhost:8080/"
        }
      },
      "execution_count": null,
      "outputs": [
        {
          "output_type": "execute_result",
          "data": {
            "text/plain": [
              "tensor([[0.5080, 0.4920],\n",
              "        [0.5092, 0.4908],\n",
              "        [0.5106, 0.4894],\n",
              "        [0.5090, 0.4910],\n",
              "        [0.5114, 0.4886],\n",
              "        [0.5049, 0.4951],\n",
              "        [0.5126, 0.4874],\n",
              "        [0.5116, 0.4884],\n",
              "        [0.5102, 0.4898],\n",
              "        [0.5083, 0.4917],\n",
              "        [0.5094, 0.4906],\n",
              "        [0.5114, 0.4886],\n",
              "        [0.5080, 0.4920],\n",
              "        [0.5109, 0.4891],\n",
              "        [0.5075, 0.4925],\n",
              "        [0.5063, 0.4937],\n",
              "        [0.5074, 0.4926],\n",
              "        [0.5043, 0.4957],\n",
              "        [0.5097, 0.4903],\n",
              "        [0.5131, 0.4869],\n",
              "        [0.5106, 0.4894],\n",
              "        [0.5116, 0.4884],\n",
              "        [0.5144, 0.4856],\n",
              "        [0.5186, 0.4814],\n",
              "        [0.5135, 0.4865],\n",
              "        [0.5085, 0.4915],\n",
              "        [0.5096, 0.4904],\n",
              "        [0.5018, 0.4982],\n",
              "        [0.5108, 0.4892],\n",
              "        [0.5122, 0.4878],\n",
              "        [0.5070, 0.4930],\n",
              "        [0.5074, 0.4926],\n",
              "        [0.5061, 0.4939],\n",
              "        [0.5122, 0.4878],\n",
              "        [0.5088, 0.4912],\n",
              "        [0.5134, 0.4866],\n",
              "        [0.5010, 0.4990],\n",
              "        [0.5141, 0.4859],\n",
              "        [0.5148, 0.4852],\n",
              "        [0.5010, 0.4990],\n",
              "        [0.5067, 0.4933],\n",
              "        [0.5055, 0.4945],\n",
              "        [0.5030, 0.4970],\n",
              "        [0.5090, 0.4910],\n",
              "        [0.5031, 0.4969],\n",
              "        [0.5037, 0.4963],\n",
              "        [0.5072, 0.4928],\n",
              "        [0.5094, 0.4906],\n",
              "        [0.5101, 0.4899],\n",
              "        [0.5079, 0.4921],\n",
              "        [0.5096, 0.4904],\n",
              "        [0.5025, 0.4975],\n",
              "        [0.5073, 0.4927],\n",
              "        [0.5133, 0.4867],\n",
              "        [0.5184, 0.4816],\n",
              "        [0.5046, 0.4954],\n",
              "        [0.5144, 0.4856],\n",
              "        [0.5060, 0.4940],\n",
              "        [0.5129, 0.4871],\n",
              "        [0.5127, 0.4873],\n",
              "        [0.5113, 0.4887],\n",
              "        [0.5063, 0.4937],\n",
              "        [0.5108, 0.4892],\n",
              "        [0.5056, 0.4944],\n",
              "        [0.5171, 0.4829],\n",
              "        [0.5240, 0.4760],\n",
              "        [0.5086, 0.4914],\n",
              "        [0.5136, 0.4864],\n",
              "        [0.5154, 0.4846],\n",
              "        [0.5097, 0.4903],\n",
              "        [0.5095, 0.4905],\n",
              "        [0.5046, 0.4954],\n",
              "        [0.5025, 0.4975],\n",
              "        [0.5020, 0.4980],\n",
              "        [0.5098, 0.4902],\n",
              "        [0.5052, 0.4948],\n",
              "        [0.5095, 0.4905],\n",
              "        [0.5100, 0.4900],\n",
              "        [0.5038, 0.4962],\n",
              "        [0.5071, 0.4929],\n",
              "        [0.5160, 0.4840],\n",
              "        [0.5078, 0.4922],\n",
              "        [0.5070, 0.4930],\n",
              "        [0.4934, 0.5066],\n",
              "        [0.5169, 0.4831],\n",
              "        [0.5013, 0.4987],\n",
              "        [0.5097, 0.4903],\n",
              "        [0.5125, 0.4875],\n",
              "        [0.5121, 0.4879],\n",
              "        [0.5035, 0.4965],\n",
              "        [0.5048, 0.4952],\n",
              "        [0.5018, 0.4982],\n",
              "        [0.5103, 0.4897],\n",
              "        [0.5093, 0.4907],\n",
              "        [0.5024, 0.4976],\n",
              "        [0.5098, 0.4902],\n",
              "        [0.5020, 0.4980],\n",
              "        [0.5124, 0.4876],\n",
              "        [0.5035, 0.4965],\n",
              "        [0.5070, 0.4930],\n",
              "        [0.5019, 0.4981],\n",
              "        [0.5020, 0.4980],\n",
              "        [0.5099, 0.4901],\n",
              "        [0.5077, 0.4923],\n",
              "        [0.5034, 0.4966],\n",
              "        [0.5146, 0.4854],\n",
              "        [0.5020, 0.4980],\n",
              "        [0.5101, 0.4899],\n",
              "        [0.5091, 0.4909],\n",
              "        [0.5114, 0.4886],\n",
              "        [0.5088, 0.4912],\n",
              "        [0.5058, 0.4942],\n",
              "        [0.5026, 0.4974],\n",
              "        [0.5177, 0.4823],\n",
              "        [0.5056, 0.4944],\n",
              "        [0.5044, 0.4956],\n",
              "        [0.5045, 0.4955],\n",
              "        [0.5157, 0.4843],\n",
              "        [0.5043, 0.4957],\n",
              "        [0.5126, 0.4874],\n",
              "        [0.5051, 0.4949],\n",
              "        [0.5199, 0.4801],\n",
              "        [0.5059, 0.4941],\n",
              "        [0.5132, 0.4868],\n",
              "        [0.5075, 0.4925],\n",
              "        [0.5069, 0.4931],\n",
              "        [0.5031, 0.4969],\n",
              "        [0.5076, 0.4924],\n",
              "        [0.5140, 0.4860],\n",
              "        [0.5117, 0.4883],\n",
              "        [0.5084, 0.4916],\n",
              "        [0.5004, 0.4996],\n",
              "        [0.5163, 0.4837],\n",
              "        [0.5049, 0.4951],\n",
              "        [0.5082, 0.4918],\n",
              "        [0.5040, 0.4960],\n",
              "        [0.5066, 0.4934],\n",
              "        [0.5103, 0.4897],\n",
              "        [0.5130, 0.4870],\n",
              "        [0.5148, 0.4852],\n",
              "        [0.4938, 0.5062],\n",
              "        [0.5016, 0.4984],\n",
              "        [0.5035, 0.4965],\n",
              "        [0.5004, 0.4996],\n",
              "        [0.5077, 0.4923],\n",
              "        [0.5094, 0.4906],\n",
              "        [0.5120, 0.4880],\n",
              "        [0.5110, 0.4890],\n",
              "        [0.5088, 0.4912],\n",
              "        [0.4984, 0.5016]], grad_fn=<SoftmaxBackward0>)"
            ]
          },
          "metadata": {},
          "execution_count": 12
        }
      ]
    },
    {
      "cell_type": "code",
      "source": [
        "\n",
        "\n",
        "def inference():\n",
        "    PATH = 'model_CNN.pth' # 保存模型的路径\n",
        "    # 加载模型\n",
        "    model = Class2().to('cpu') # 实例化我们的PyTorch模型\n",
        "    model.load_state_dict(torch.load(PATH)) # 加载保存的模型\n",
        "    # summary(model, (1, 28, 28), device='cpu') # 检查是否一切都正确\n",
        "\n",
        "    # 获取一些'test_loader'数据用于我们的模型\n",
        "    dataiter = iter(test_loader) # 获取整个批次\n",
        "    images, labels = next(dataiter) # 提取图像和它们的标签\n",
        "    label = labels[0] # 真实标签\n",
        "\n",
        "    # 图像需要一些处理！\n",
        "    image = images[0] # 从批次中取第一张图像 = 1 x 28 x 28\n",
        "    # 记住，我们的模型期望第一个维度作为'批大小'\n",
        "    # 因此，在'开始'添加一个额外的维度。\n",
        "    image = torch.unsqueeze(image, dim=0) # 1 x 1 x 28 x 28 (批大小 = 1)\n",
        "    print('\\nimage.shape =>', image.shape)\n",
        "\n",
        "    # 禁用自动微分模块\n",
        "    with torch.no_grad(): # 不需要计算梯度，因为我们不在训练\n",
        "        # 进行前向传播\n",
        "        output = model.forward(image)\n",
        "\n",
        "    # 我们的模型输出'logits'，我们需要将其转换为类概率。\n",
        "    # https://discuss.pytorch.org/t/how-to-extract-probabilities/2720/12\n",
        "    # 要转换logits，我们需要使用 'Softmax' 函数\n",
        "    # https://medium.com/data-science-bootcamp/understand-the-softmax-function-in-minutes-f3a59641e86d\n",
        "    # 因此，\n",
        "    class_probabilities = F.softmax(output, dim=1).numpy().squeeze()\n",
        "    print('\\n类别概率 ==>', class_probabilities)\n",
        "    for i, proba in enumerate(class_probabilities):\n",
        "        print(f'类别 \\t{i}\\t 概率 \\t{100*proba:.2f}%')\n",
        "\n",
        "    # 一个非常漂亮的方式来展示结果\n",
        "    # 创建一个具有两个坐标轴的图，ax1和ax2\n",
        "    fig, (ax1, ax2) = plt.subplots(figsize=(6,9), ncols=2) # 有2列的子图\n",
        "    # ax1 显示来自测试数据集的图像\n",
        "    ax1.imshow(image.resize_(1, 28, 28).numpy().squeeze())\n",
        "    ax1.set_title('实际标签 ' + str(label.numpy()))\n",
        "    # ax2 包含包含类别概率的水平条形图\n",
        "    ax2.barh(np.arange(10), class_probabilities)\n",
        "    ax2.set_aspect(0.1) # 调整ax2的纵横比，否则它会变得太大\n",
        "    ax2.set_yticks(np.arange(10)) # 10个类别的y轴上有10个刻度\n",
        "    ax2.set_yticklabels(np.arange(10)) # 设置刻度标签从0到9\n",
        "    ax2.set_title('类别概率')\n",
        "    ax2.set_xlim(0, 1.1) # 概率不能超过1，因此将限制设置为1.1\n",
        "\n",
        "    return None\n"
      ],
      "metadata": {
        "id": "44mAdvcI9W8O"
      },
      "execution_count": null,
      "outputs": []
    }
  ]
}