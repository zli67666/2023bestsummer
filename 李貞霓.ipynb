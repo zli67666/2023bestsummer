{
  "nbformat": 4,
  "nbformat_minor": 0,
  "metadata": {
    "colab": {
      "provenance": []
    },
    "kernelspec": {
      "name": "python3",
      "display_name": "Python 3"
    },
    "language_info": {
      "name": "python"
    }
  },
  "cells": [
    {
      "cell_type": "code",
      "source": [
        "from google.colab import drive\n",
        "drive.mount('/content/drive')"
      ],
      "metadata": {
        "colab": {
          "base_uri": "https://localhost:8080/"
        },
        "id": "jQxrurNicUJO",
        "outputId": "43938f31-0afe-4887-cebe-8531bf92b6ed"
      },
      "execution_count": null,
      "outputs": [
        {
          "output_type": "stream",
          "name": "stdout",
          "text": [
            "Mounted at /content/drive\n"
          ]
        }
      ]
    },
    {
      "cell_type": "code",
      "source": [
        "\n",
        "import zipfile\n",
        "\n",
        "zip = '/content/drive/MyDrive/Colab Notebooks/consensus.zip'\n",
        "\n",
        "\n",
        "data = '/content/drive/MyDrive/Colab Notebooks'\n",
        "\n",
        "with zipfile.ZipFile(zip, mode='r') as zf:\n",
        "    zf.extractall(data)"
      ],
      "metadata": {
        "id": "IYMNGEv3eIp-"
      },
      "execution_count": null,
      "outputs": []
    },
    {
      "cell_type": "code",
      "source": [
        "print(zf.namelist())             # 印出清單\n"
      ],
      "metadata": {
        "colab": {
          "base_uri": "https://localhost:8080/"
        },
        "id": "E3EzLGAkn8gF",
        "outputId": "4edb498f-73e3-46f4-e848-70c96304b684"
      },
      "execution_count": null,
      "outputs": [
        {
          "output_type": "stream",
          "name": "stdout",
          "text": [
            "['consensus/0/s50185208.txt', 'consensus/0/s50349124.txt', 'consensus/0/s50481993.txt', 'consensus/0/s50566304.txt', 'consensus/0/s50622787.txt', 'consensus/0/s50762469.txt', 'consensus/0/s50880424.txt', 'consensus/0/s51181054.txt', 'consensus/0/s51421278.txt', 'consensus/0/s51600455.txt', 'consensus/0/s51618209.txt', 'consensus/0/s51676033.txt', 'consensus/0/s51983215.txt', 'consensus/0/s52018529.txt', 'consensus/0/s52109344.txt', 'consensus/0/s52420627.txt', 'consensus/0/s52549668.txt', 'consensus/0/s52626074.txt', 'consensus/0/s52853233.txt', 'consensus/0/s53265055.txt', 'consensus/0/s53418285.txt', 'consensus/0/s53690019.txt', 'consensus/0/s53759218.txt', 'consensus/0/s53842858.txt', 'consensus/0/s53968082.txt', 'consensus/0/s54249798.txt', 'consensus/0/s54838154.txt', 'consensus/0/s55052945.txt', 'consensus/0/s55102016.txt', 'consensus/0/s55170181.txt', 'consensus/0/s55686758.txt', 'consensus/0/s55893275.txt', 'consensus/0/s56028448.txt', 'consensus/0/s56175060.txt', 'consensus/0/s56455216.txt', 'consensus/0/s56626864.txt', 'consensus/0/s56826695.txt', 'consensus/0/s56849601.txt', 'consensus/0/s57096091.txt', 'consensus/0/s57118202.txt', 'consensus/0/s57232624.txt', 'consensus/0/s57478332.txt', 'consensus/0/s57548918.txt', 'consensus/0/s57799958.txt', 'consensus/0/s57833633.txt', 'consensus/0/s57964029.txt', 'consensus/0/s58056043.txt', 'consensus/0/s58218519.txt', 'consensus/0/s58227498.txt', 'consensus/0/s58263605.txt', 'consensus/0/s58290224.txt', 'consensus/0/s58416083.txt', 'consensus/0/s58465381.txt', 'consensus/0/s58693979.txt', 'consensus/0/s59065299.txt', 'consensus/0/s59267855.txt', 'consensus/0/s59346005.txt', 'consensus/0/s59508166.txt', 'consensus/0/s59534144.txt', 'consensus/0/s59739327.txt', 'consensus/0/s59987491.txt', 'consensus/1/s50027115.txt', 'consensus/1/s50050827.txt', 'consensus/1/s50145470.txt', 'consensus/1/s50210966.txt', 'consensus/1/s50807723.txt', 'consensus/1/s50819505.txt', 'consensus/1/s50944321.txt', 'consensus/1/s51016203.txt', 'consensus/1/s51255358.txt', 'consensus/1/s51450653.txt', 'consensus/1/s51527697.txt', 'consensus/1/s52209576.txt', 'consensus/1/s52252218.txt', 'consensus/1/s52627702.txt', 'consensus/1/s52760411.txt', 'consensus/1/s53054569.txt', 'consensus/1/s53076320.txt', 'consensus/1/s53272535.txt', 'consensus/1/s53370483.txt', 'consensus/1/s53448578.txt', 'consensus/1/s53589711.txt', 'consensus/1/s54382303.txt', 'consensus/1/s54396447.txt', 'consensus/1/s54567224.txt', 'consensus/1/s54587683.txt', 'consensus/1/s54594082.txt', 'consensus/1/s54937644.txt', 'consensus/1/s55253826.txt', 'consensus/1/s55321887.txt', 'consensus/1/s55613214.txt', 'consensus/1/s55640806.txt', 'consensus/1/s56184938.txt', 'consensus/1/s56562345.txt', 'consensus/1/s56851530.txt', 'consensus/1/s57454561.txt', 'consensus/1/s57572524.txt', 'consensus/1/s57582768.txt', 'consensus/1/s58446779.txt', 'consensus/1/s58609964.txt', 'consensus/1/s58954573.txt', 'consensus/1/s59005404.txt', 'consensus/1/s59289959.txt', 'consensus/1/s59552986.txt', 'consensus/1/s59717451.txt', 'consensus/2/s51182510.txt', 'consensus/2/s51650625.txt', 'consensus/2/s52792809.txt', 'consensus/2/s52825198.txt', 'consensus/2/s53042788.txt', 'consensus/2/s53109312.txt', 'consensus/2/s53114173.txt', 'consensus/2/s53469137.txt', 'consensus/2/s53919055.txt', 'consensus/2/s54059159.txt', 'consensus/2/s54393504.txt', 'consensus/2/s55952796.txt', 'consensus/2/s56766187.txt', 'consensus/2/s57070967.txt', 'consensus/2/s58490673.txt', 'consensus/2/s58961864.txt', 'consensus/2/s58988106.txt', 'consensus/2/s59377019.txt', 'consensus/2/s59728243.txt', 'consensus/2/s59825919.txt', 'consensus/3/s50572935.txt', 'consensus/3/s50699174.txt', 'consensus/3/s51397090.txt', 'consensus/3/s52233935.txt', 'consensus/3/s52845006.txt', 'consensus/3/s52917834.txt', 'consensus/3/s53047516.txt', 'consensus/3/s54068063.txt', 'consensus/3/s54888772.txt', 'consensus/3/s54926770.txt', 'consensus/3/s55657535.txt', 'consensus/3/s55750562.txt', 'consensus/3/s55950861.txt', 'consensus/3/s56697049.txt', 'consensus/3/s57432223.txt', 'consensus/3/s58748912.txt']\n"
          ]
        }
      ]
    },
    {
      "cell_type": "code",
      "source": [
        "read='/content/drive/MyDrive/Colab Notebooks/consensus/'"
      ],
      "metadata": {
        "id": "X1LbJPDqg3oI"
      },
      "execution_count": null,
      "outputs": []
    },
    {
      "cell_type": "code",
      "source": [
        "print(glob.glob(r'/content/drive/MyDrive/Colab Notebooks/consensus/0/*'))"
      ],
      "metadata": {
        "colab": {
          "base_uri": "https://localhost:8080/"
        },
        "id": "kfbYZAs7gkRY",
        "outputId": "0792b605-f91a-461e-aae9-081377593713"
      },
      "execution_count": null,
      "outputs": [
        {
          "output_type": "stream",
          "name": "stdout",
          "text": [
            "['/content/drive/MyDrive/Colab Notebooks/consensus/0/s50185208.txt', '/content/drive/MyDrive/Colab Notebooks/consensus/0/s50349124.txt', '/content/drive/MyDrive/Colab Notebooks/consensus/0/s50481993.txt', '/content/drive/MyDrive/Colab Notebooks/consensus/0/s50566304.txt', '/content/drive/MyDrive/Colab Notebooks/consensus/0/s50622787.txt', '/content/drive/MyDrive/Colab Notebooks/consensus/0/s50762469.txt', '/content/drive/MyDrive/Colab Notebooks/consensus/0/s50880424.txt', '/content/drive/MyDrive/Colab Notebooks/consensus/0/s51181054.txt', '/content/drive/MyDrive/Colab Notebooks/consensus/0/s51421278.txt', '/content/drive/MyDrive/Colab Notebooks/consensus/0/s51600455.txt', '/content/drive/MyDrive/Colab Notebooks/consensus/0/s51618209.txt', '/content/drive/MyDrive/Colab Notebooks/consensus/0/s51676033.txt', '/content/drive/MyDrive/Colab Notebooks/consensus/0/s51983215.txt', '/content/drive/MyDrive/Colab Notebooks/consensus/0/s52018529.txt', '/content/drive/MyDrive/Colab Notebooks/consensus/0/s52109344.txt', '/content/drive/MyDrive/Colab Notebooks/consensus/0/s52420627.txt', '/content/drive/MyDrive/Colab Notebooks/consensus/0/s52549668.txt', '/content/drive/MyDrive/Colab Notebooks/consensus/0/s52626074.txt', '/content/drive/MyDrive/Colab Notebooks/consensus/0/s52853233.txt', '/content/drive/MyDrive/Colab Notebooks/consensus/0/s53265055.txt', '/content/drive/MyDrive/Colab Notebooks/consensus/0/s53418285.txt', '/content/drive/MyDrive/Colab Notebooks/consensus/0/s53690019.txt', '/content/drive/MyDrive/Colab Notebooks/consensus/0/s53759218.txt', '/content/drive/MyDrive/Colab Notebooks/consensus/0/s53842858.txt', '/content/drive/MyDrive/Colab Notebooks/consensus/0/s53968082.txt', '/content/drive/MyDrive/Colab Notebooks/consensus/0/s54249798.txt', '/content/drive/MyDrive/Colab Notebooks/consensus/0/s54838154.txt', '/content/drive/MyDrive/Colab Notebooks/consensus/0/s55052945.txt', '/content/drive/MyDrive/Colab Notebooks/consensus/0/s55102016.txt', '/content/drive/MyDrive/Colab Notebooks/consensus/0/s55170181.txt', '/content/drive/MyDrive/Colab Notebooks/consensus/0/s55686758.txt', '/content/drive/MyDrive/Colab Notebooks/consensus/0/s55893275.txt', '/content/drive/MyDrive/Colab Notebooks/consensus/0/s56028448.txt', '/content/drive/MyDrive/Colab Notebooks/consensus/0/s56175060.txt', '/content/drive/MyDrive/Colab Notebooks/consensus/0/s56455216.txt', '/content/drive/MyDrive/Colab Notebooks/consensus/0/s56626864.txt', '/content/drive/MyDrive/Colab Notebooks/consensus/0/s56826695.txt', '/content/drive/MyDrive/Colab Notebooks/consensus/0/s56849601.txt', '/content/drive/MyDrive/Colab Notebooks/consensus/0/s57096091.txt', '/content/drive/MyDrive/Colab Notebooks/consensus/0/s57118202.txt', '/content/drive/MyDrive/Colab Notebooks/consensus/0/s57232624.txt', '/content/drive/MyDrive/Colab Notebooks/consensus/0/s57478332.txt', '/content/drive/MyDrive/Colab Notebooks/consensus/0/s57548918.txt', '/content/drive/MyDrive/Colab Notebooks/consensus/0/s57799958.txt', '/content/drive/MyDrive/Colab Notebooks/consensus/0/s57833633.txt', '/content/drive/MyDrive/Colab Notebooks/consensus/0/s57964029.txt', '/content/drive/MyDrive/Colab Notebooks/consensus/0/s58056043.txt', '/content/drive/MyDrive/Colab Notebooks/consensus/0/s58218519.txt', '/content/drive/MyDrive/Colab Notebooks/consensus/0/s58227498.txt', '/content/drive/MyDrive/Colab Notebooks/consensus/0/s58263605.txt', '/content/drive/MyDrive/Colab Notebooks/consensus/0/s58290224.txt', '/content/drive/MyDrive/Colab Notebooks/consensus/0/s58416083.txt', '/content/drive/MyDrive/Colab Notebooks/consensus/0/s58465381.txt', '/content/drive/MyDrive/Colab Notebooks/consensus/0/s58693979.txt', '/content/drive/MyDrive/Colab Notebooks/consensus/0/s59065299.txt', '/content/drive/MyDrive/Colab Notebooks/consensus/0/s59267855.txt', '/content/drive/MyDrive/Colab Notebooks/consensus/0/s59346005.txt', '/content/drive/MyDrive/Colab Notebooks/consensus/0/s59508166.txt', '/content/drive/MyDrive/Colab Notebooks/consensus/0/s59534144.txt', '/content/drive/MyDrive/Colab Notebooks/consensus/0/s59739327.txt', '/content/drive/MyDrive/Colab Notebooks/consensus/0/s59987491.txt']\n"
          ]
        }
      ]
    },
    {
      "cell_type": "code",
      "source": [
        "import pandas as pd\n",
        "import glob\n",
        "\n",
        "a = glob.glob(r'/content/drive/MyDrive/Colab Notebooks/consensus/0/*')\n",
        "print(a)\n",
        "\n",
        "\n",
        "list=[]\n"
      ],
      "metadata": {
        "colab": {
          "base_uri": "https://localhost:8080/"
        },
        "id": "3ovzWCWcLLQE",
        "outputId": "85b171da-8034-40f5-fb7a-631cde02bfda"
      },
      "execution_count": null,
      "outputs": [
        {
          "output_type": "stream",
          "name": "stdout",
          "text": [
            "['/content/drive/MyDrive/Colab Notebooks/consensus/0/s50185208.txt', '/content/drive/MyDrive/Colab Notebooks/consensus/0/s50349124.txt', '/content/drive/MyDrive/Colab Notebooks/consensus/0/s50481993.txt', '/content/drive/MyDrive/Colab Notebooks/consensus/0/s50566304.txt', '/content/drive/MyDrive/Colab Notebooks/consensus/0/s50622787.txt', '/content/drive/MyDrive/Colab Notebooks/consensus/0/s50762469.txt', '/content/drive/MyDrive/Colab Notebooks/consensus/0/s50880424.txt', '/content/drive/MyDrive/Colab Notebooks/consensus/0/s51181054.txt', '/content/drive/MyDrive/Colab Notebooks/consensus/0/s51421278.txt', '/content/drive/MyDrive/Colab Notebooks/consensus/0/s51600455.txt', '/content/drive/MyDrive/Colab Notebooks/consensus/0/s51618209.txt', '/content/drive/MyDrive/Colab Notebooks/consensus/0/s51676033.txt', '/content/drive/MyDrive/Colab Notebooks/consensus/0/s51983215.txt', '/content/drive/MyDrive/Colab Notebooks/consensus/0/s52018529.txt', '/content/drive/MyDrive/Colab Notebooks/consensus/0/s52109344.txt', '/content/drive/MyDrive/Colab Notebooks/consensus/0/s52420627.txt', '/content/drive/MyDrive/Colab Notebooks/consensus/0/s52549668.txt', '/content/drive/MyDrive/Colab Notebooks/consensus/0/s52626074.txt', '/content/drive/MyDrive/Colab Notebooks/consensus/0/s52853233.txt', '/content/drive/MyDrive/Colab Notebooks/consensus/0/s53265055.txt', '/content/drive/MyDrive/Colab Notebooks/consensus/0/s53418285.txt', '/content/drive/MyDrive/Colab Notebooks/consensus/0/s53690019.txt', '/content/drive/MyDrive/Colab Notebooks/consensus/0/s53759218.txt', '/content/drive/MyDrive/Colab Notebooks/consensus/0/s53842858.txt', '/content/drive/MyDrive/Colab Notebooks/consensus/0/s53968082.txt', '/content/drive/MyDrive/Colab Notebooks/consensus/0/s54249798.txt', '/content/drive/MyDrive/Colab Notebooks/consensus/0/s54838154.txt', '/content/drive/MyDrive/Colab Notebooks/consensus/0/s55052945.txt', '/content/drive/MyDrive/Colab Notebooks/consensus/0/s55102016.txt', '/content/drive/MyDrive/Colab Notebooks/consensus/0/s55170181.txt', '/content/drive/MyDrive/Colab Notebooks/consensus/0/s55686758.txt', '/content/drive/MyDrive/Colab Notebooks/consensus/0/s55893275.txt', '/content/drive/MyDrive/Colab Notebooks/consensus/0/s56028448.txt', '/content/drive/MyDrive/Colab Notebooks/consensus/0/s56175060.txt', '/content/drive/MyDrive/Colab Notebooks/consensus/0/s56455216.txt', '/content/drive/MyDrive/Colab Notebooks/consensus/0/s56626864.txt', '/content/drive/MyDrive/Colab Notebooks/consensus/0/s56826695.txt', '/content/drive/MyDrive/Colab Notebooks/consensus/0/s56849601.txt', '/content/drive/MyDrive/Colab Notebooks/consensus/0/s57096091.txt', '/content/drive/MyDrive/Colab Notebooks/consensus/0/s57118202.txt', '/content/drive/MyDrive/Colab Notebooks/consensus/0/s57232624.txt', '/content/drive/MyDrive/Colab Notebooks/consensus/0/s57478332.txt', '/content/drive/MyDrive/Colab Notebooks/consensus/0/s57548918.txt', '/content/drive/MyDrive/Colab Notebooks/consensus/0/s57799958.txt', '/content/drive/MyDrive/Colab Notebooks/consensus/0/s57833633.txt', '/content/drive/MyDrive/Colab Notebooks/consensus/0/s57964029.txt', '/content/drive/MyDrive/Colab Notebooks/consensus/0/s58056043.txt', '/content/drive/MyDrive/Colab Notebooks/consensus/0/s58218519.txt', '/content/drive/MyDrive/Colab Notebooks/consensus/0/s58227498.txt', '/content/drive/MyDrive/Colab Notebooks/consensus/0/s58263605.txt', '/content/drive/MyDrive/Colab Notebooks/consensus/0/s58290224.txt', '/content/drive/MyDrive/Colab Notebooks/consensus/0/s58416083.txt', '/content/drive/MyDrive/Colab Notebooks/consensus/0/s58465381.txt', '/content/drive/MyDrive/Colab Notebooks/consensus/0/s58693979.txt', '/content/drive/MyDrive/Colab Notebooks/consensus/0/s59065299.txt', '/content/drive/MyDrive/Colab Notebooks/consensus/0/s59267855.txt', '/content/drive/MyDrive/Colab Notebooks/consensus/0/s59346005.txt', '/content/drive/MyDrive/Colab Notebooks/consensus/0/s59508166.txt', '/content/drive/MyDrive/Colab Notebooks/consensus/0/s59534144.txt', '/content/drive/MyDrive/Colab Notebooks/consensus/0/s59739327.txt', '/content/drive/MyDrive/Colab Notebooks/consensus/0/s59987491.txt']\n"
          ]
        }
      ]
    },
    {
      "cell_type": "code",
      "source": [
        "import os  ##data_train_0\n",
        "\n",
        "dirPath_0 = r'/content/drive/MyDrive/Colab Notebooks/consensus/0/'\n",
        "data_train_0 = next(os.walk(dirPath_0))[2]\n",
        "print('data_train_0',data_train_0)\n",
        "\n",
        "dirPath_1 = r'/content/drive/MyDrive/Colab Notebooks/consensus/1/'\n",
        "data_train_1 = next(os.walk(dirPath_1))[2]\n",
        "print('data_train_1',data_train_1)\n",
        "\n",
        "dirPath_2 = r'/content/drive/MyDrive/Colab Notebooks/consensus/2/'\n",
        "data_train_2 = next(os.walk(dirPath_2))[2]\n",
        "print('data_train_2',data_train_2)\n",
        "\n",
        "dirPath_3 = r'/content/drive/MyDrive/Colab Notebooks/consensus/3/'\n",
        "data_train_3 = next(os.walk(dirPath_3))[2]\n",
        "print('data_train_3',data_train_3)"
      ],
      "metadata": {
        "colab": {
          "base_uri": "https://localhost:8080/"
        },
        "id": "Hdx1aR8QmAf9",
        "outputId": "8febb43e-14f7-41fb-fae9-ac3b66187778"
      },
      "execution_count": null,
      "outputs": [
        {
          "output_type": "stream",
          "name": "stdout",
          "text": [
            "data_train_0 ['s50185208.txt', 's50349124.txt', 's50481993.txt', 's50566304.txt', 's50622787.txt', 's50762469.txt', 's50880424.txt', 's51181054.txt', 's51421278.txt', 's51600455.txt', 's51618209.txt', 's51676033.txt', 's51983215.txt', 's52018529.txt', 's52109344.txt', 's52420627.txt', 's52549668.txt', 's52626074.txt', 's52853233.txt', 's53265055.txt', 's53418285.txt', 's53690019.txt', 's53759218.txt', 's53842858.txt', 's53968082.txt', 's54249798.txt', 's54838154.txt', 's55052945.txt', 's55102016.txt', 's55170181.txt', 's55686758.txt', 's55893275.txt', 's56028448.txt', 's56175060.txt', 's56455216.txt', 's56626864.txt', 's56826695.txt', 's56849601.txt', 's57096091.txt', 's57118202.txt', 's57232624.txt', 's57478332.txt', 's57548918.txt', 's57799958.txt', 's57833633.txt', 's57964029.txt', 's58056043.txt', 's58218519.txt', 's58227498.txt', 's58263605.txt', 's58290224.txt', 's58416083.txt', 's58465381.txt', 's58693979.txt', 's59065299.txt', 's59267855.txt', 's59346005.txt', 's59508166.txt', 's59534144.txt', 's59739327.txt', 's59987491.txt']\n",
            "data_train_1 ['s50027115.txt', 's50050827.txt', 's50145470.txt', 's50210966.txt', 's50807723.txt', 's50819505.txt', 's50944321.txt', 's51016203.txt', 's51255358.txt', 's51450653.txt', 's51527697.txt', 's52209576.txt', 's52252218.txt', 's52627702.txt', 's52760411.txt', 's53054569.txt', 's53076320.txt', 's53272535.txt', 's53370483.txt', 's53448578.txt', 's53589711.txt', 's54382303.txt', 's54396447.txt', 's54567224.txt', 's54587683.txt', 's54594082.txt', 's54937644.txt', 's55253826.txt', 's55321887.txt', 's55613214.txt', 's55640806.txt', 's56184938.txt', 's56562345.txt', 's56851530.txt', 's57454561.txt', 's57572524.txt', 's57582768.txt', 's58446779.txt', 's58609964.txt', 's58954573.txt', 's59005404.txt', 's59289959.txt', 's59552986.txt', 's59717451.txt']\n",
            "data_train_2 ['s51182510.txt', 's51650625.txt', 's52792809.txt', 's52825198.txt', 's53042788.txt', 's53109312.txt', 's53114173.txt', 's53469137.txt', 's53919055.txt', 's54059159.txt', 's54393504.txt', 's55952796.txt', 's56766187.txt', 's57070967.txt', 's58490673.txt', 's58961864.txt', 's58988106.txt', 's59377019.txt', 's59728243.txt', 's59825919.txt']\n"
          ]
        }
      ]
    },
    {
      "cell_type": "code",
      "source": [
        "data_train_0[0]"
      ],
      "metadata": {
        "colab": {
          "base_uri": "https://localhost:8080/",
          "height": 36
        },
        "id": "nNEIudGA7dKC",
        "outputId": "d4c5cc46-e417-47b3-bba3-c26f9aa13109"
      },
      "execution_count": null,
      "outputs": [
        {
          "output_type": "execute_result",
          "data": {
            "text/plain": [
              "'s50185208.txt'"
            ],
            "application/vnd.google.colaboratory.intrinsic+json": {
              "type": "string"
            }
          },
          "metadata": {},
          "execution_count": 24
        }
      ]
    },
    {
      "cell_type": "code",
      "source": [
        "dirPath_0"
      ],
      "metadata": {
        "colab": {
          "base_uri": "https://localhost:8080/",
          "height": 36
        },
        "id": "3FsgojbF6nGW",
        "outputId": "bc717cb8-4454-498b-819f-9c137691f19f"
      },
      "execution_count": null,
      "outputs": [
        {
          "output_type": "execute_result",
          "data": {
            "text/plain": [
              "'/content/drive/MyDrive/Colab Notebooks/consensus/0/'"
            ],
            "application/vnd.google.colaboratory.intrinsic+json": {
              "type": "string"
            }
          },
          "metadata": {},
          "execution_count": 26
        }
      ]
    },
    {
      "cell_type": "code",
      "source": [
        "from sklearn.feature_extraction.text import TfidfVectorizer\n",
        "from time import time\n",
        "categories = [\n",
        "    \"0\",\n",
        "    \"1\",\n",
        "    \"2\",\n",
        "    \"3\",\n",
        "]"
      ],
      "metadata": {
        "id": "b7cvYftDmrUa"
      },
      "execution_count": null,
      "outputs": []
    },
    {
      "cell_type": "code",
      "source": [
        "\n",
        "\n",
        "def size_mb(docs):\n",
        "    return sum(len(s.encode(\"utf-8\")) for s in docs) / 1e6\n",
        "\n",
        "\n",
        "def load_dataset(verbose=False, remove=()):\n",
        "\n",
        "    data_train = fetch_20newsgroups(\n",
        "        subset=\"train\",\n",
        "        categories=categories,\n",
        "        shuffle=True,\n",
        "        random_state=42,\n",
        "        remove=remove,\n",
        "    )\n",
        "\n",
        "    data_test = fetch_20newsgroups(\n",
        "        subset=\"test\",\n",
        "        categories=categories,\n",
        "        shuffle=True,\n",
        "        random_state=42,\n",
        "        remove=remove,\n",
        "    )\n",
        "\n",
        "    # order of labels in `target_names` can be different from `categories`\n",
        "    target_names = data_train.target_names\n",
        "\n",
        "    # split target in a training set and a test set\n",
        "    y_train, y_test = data_train.target, data_test.target\n",
        "\n",
        "    # Extracting features from the training data using a sparse vectorizer\n",
        "    t0 = time()\n",
        "    vectorizer = TfidfVectorizer(\n",
        "        sublinear_tf=True, max_df=0.5, min_df=5, stop_words=\"english\"\n",
        "    )\n",
        "    X_train = vectorizer.fit_transform(data_train.data)\n",
        "    duration_train = time() - t0\n",
        "\n",
        "    # Extracting features from the test data using the same vectorizer\n",
        "    t0 = time()\n",
        "    X_test = vectorizer.transform(data_test.data)\n",
        "    duration_test = time() - t0\n",
        "\n",
        "    feature_names = vectorizer.get_feature_names_out()\n",
        "\n",
        "    if verbose:\n",
        "        # compute size of loaded data\n",
        "        data_train_size_mb = size_mb(data_train.data)\n",
        "        data_test_size_mb = size_mb(data_test.data)\n",
        "\n",
        "        print(\n",
        "            f\"{len(data_train.data)} documents - \"\n",
        "            f\"{data_train_size_mb:.2f}MB (training set)\"\n",
        "        )\n",
        "        print(f\"{len(data_test.data)} documents - {data_test_size_mb:.2f}MB (test set)\")\n",
        "        print(f\"{len(target_names)} categories\")\n",
        "        print(\n",
        "            f\"vectorize training done in {duration_train:.3f}s \"\n",
        "            f\"at {data_train_size_mb / duration_train:.3f}MB/s\"\n",
        "        )\n",
        "        print(f\"n_samples: {X_train.shape[0]}, n_features: {X_train.shape[1]}\")\n",
        "        print(\n",
        "            f\"vectorize testing done in {duration_test:.3f}s \"\n",
        "            f\"at {data_test_size_mb / duration_test:.3f}MB/s\"\n",
        "        )\n",
        "        print(f\"n_samples: {X_test.shape[0]}, n_features: {X_test.shape[1]}\")\n",
        "\n",
        "    return X_train, X_test, y_train, y_test, feature_names, target_names"
      ],
      "metadata": {
        "id": "7QObOaczqX3S"
      },
      "execution_count": null,
      "outputs": []
    }
  ]
}